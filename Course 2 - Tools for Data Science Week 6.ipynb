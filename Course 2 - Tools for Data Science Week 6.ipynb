{
 "cells": [
  {
   "cell_type": "markdown",
   "id": "13cf2ac9",
   "metadata": {},
   "source": [
    "#Data Science Tools and Ecosystem"
   ]
  },
  {
   "cell_type": "markdown",
   "id": "9af8375f",
   "metadata": {},
   "source": [
    "#In this notebook, Data Science tools and Ecosystem are summarized."
   ]
  },
  {
   "cell_type": "markdown",
   "id": "956bcbe3",
   "metadata": {},
   "source": [
    "#Some of the popular languages that Data Scientist use are:\n",
    "1. Python\n",
    "2. R Language\n",
    "3. SQL"
   ]
  },
  {
   "cell_type": "markdown",
   "id": "b90dfb8f",
   "metadata": {},
   "source": [
    "**Objectives**\n",
    "- Python\n",
    "- R Language\n",
    "- Jupyter\n",
    "- Tables\n",
    "- Addition"
   ]
  },
  {
   "cell_type": "markdown",
   "id": "f40b7b6c",
   "metadata": {},
   "source": [
    "#Some of the commonly used libraries used for Data Scientist include:\n",
    "1. NumPy\n",
    "2. Mathplotlib\n",
    "3. Pandas\n",
    "4. Seaborn\n",
    "5. GGplot2"
   ]
  },
  {
   "cell_type": "markdown",
   "id": "e64f61c7",
   "metadata": {},
   "source": [
    "| Data Science Tools |\n",
    "|:--------:|\n",
    "|  Anaconda  |  \n",
    "|  RStudio   |  \n",
    "|  Tableau   |"
   ]
  },
  {
   "cell_type": "markdown",
   "id": "cf903f53",
   "metadata": {},
   "source": [
    "###Below are a few examples of evaluating arithmetic expressions in Python"
   ]
  },
  {
   "cell_type": "code",
   "execution_count": 28,
   "id": "8a78bf95",
   "metadata": {},
   "outputs": [
    {
     "data": {
      "text/plain": [
       "17"
      ]
     },
     "execution_count": 28,
     "metadata": {},
     "output_type": "execute_result"
    }
   ],
   "source": [
    "#This is a simple arithmetic expression to multiply then add the integers\n",
    "answer = (3*4)+5\n",
    "#Display the answer\n",
    "answer"
   ]
  },
  {
   "cell_type": "code",
   "execution_count": 29,
   "id": "b7114290",
   "metadata": {},
   "outputs": [
    {
     "data": {
      "text/plain": [
       "3.3333333333333335"
      ]
     },
     "execution_count": 29,
     "metadata": {},
     "output_type": "execute_result"
    }
   ],
   "source": [
    "#This will convert 200 minutes to hours by dividing by 60\n",
    "200/60"
   ]
  },
  {
   "cell_type": "markdown",
   "id": "a02cd364",
   "metadata": {},
   "source": [
    "##Author: \n",
    "Richard"
   ]
  }
 ],
 "metadata": {
  "kernelspec": {
   "display_name": "Python 3 (ipykernel)",
   "language": "python",
   "name": "python3"
  },
  "language_info": {
   "codemirror_mode": {
    "name": "ipython",
    "version": 3
   },
   "file_extension": ".py",
   "mimetype": "text/x-python",
   "name": "python",
   "nbconvert_exporter": "python",
   "pygments_lexer": "ipython3",
   "version": "3.11.4"
  }
 },
 "nbformat": 4,
 "nbformat_minor": 5
}
